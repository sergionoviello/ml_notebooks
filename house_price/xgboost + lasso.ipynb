{
 "cells": [
  {
   "cell_type": "code",
   "execution_count": 1,
   "metadata": {
    "collapsed": true
   },
   "outputs": [],
   "source": [
    "import pandas as pd\n",
    "import numpy as np\n",
    "\n",
    "import matplotlib.pyplot as plt\n",
    "import seaborn as sns\n",
    "%matplotlib inline\n",
    "\n",
    "from scipy.stats import norm, skew\n",
    "from scipy import stats\n",
    "\n",
    "from sklearn.preprocessing import StandardScaler\n",
    "from sklearn.model_selection import KFold, cross_val_score, train_test_split\n",
    "\n",
    "from sklearn.linear_model import LinearRegression, RidgeCV, LassoCV, ElasticNetCV\n",
    "from sklearn.metrics import mean_squared_error, make_scorer\n",
    "\n",
    "import xgboost as xgb"
   ]
  },
  {
   "cell_type": "code",
   "execution_count": 2,
   "metadata": {
    "collapsed": true
   },
   "outputs": [],
   "source": [
    "def combined_dataset(targetName):\n",
    "    train = pd.read_csv(\"data/train.csv\")\n",
    "\n",
    "    test = pd.read_csv(\"data/test.csv\")\n",
    "    train.drop(targetName, 1, inplace=True)\n",
    "    combined = train.append(test)\n",
    "    combined.reset_index(inplace=True)\n",
    "    combined.drop('index', inplace=True, axis=1)\n",
    "    \n",
    "    return combined, train.shape[0]"
   ]
  },
  {
   "cell_type": "code",
   "execution_count": 3,
   "metadata": {
    "collapsed": false
   },
   "outputs": [],
   "source": [
    "combined, idx = combined_dataset('SalePrice')"
   ]
  },
  {
   "cell_type": "code",
   "execution_count": 4,
   "metadata": {
    "collapsed": true
   },
   "outputs": [],
   "source": [
    "# remove missing data"
   ]
  },
  {
   "cell_type": "code",
   "execution_count": 5,
   "metadata": {
    "collapsed": true
   },
   "outputs": [],
   "source": [
    "combined[\"PoolQC\"].fillna(\"No\", inplace=True)\n",
    "combined[\"PoolArea\"].fillna(0, inplace=True)\n",
    "combined['MiscFeature'].fillna('None', inplace=True)\n",
    "combined['Alley'].fillna('None', inplace=True)\n",
    "combined['Fence'].fillna('None', inplace=True)\n",
    "combined['FireplaceQu'].fillna('None', inplace=True)\n",
    "combined['LotFrontage'].fillna(0, inplace=True)\n",
    "combined['GarageYrBlt'].fillna(combined['YearBuilt'], inplace=True)\n",
    "combined[\"GarageType\"].fillna(\"None\", inplace=True)\n",
    "combined[\"GarageQual\"].fillna(\"None\", inplace=True)\n",
    "combined[\"GarageCond\"].fillna(\"None\", inplace=True)\n",
    "combined[\"GarageFinish\"].fillna(\"None\", inplace=True)\n",
    "combined['BsmtFinType1'].fillna('None', inplace=True)\n",
    "combined['BsmtFinType2'].fillna('None', inplace=True)\n",
    "combined['BsmtExposure'].fillna('None', inplace=True)\n",
    "combined['BsmtQual'].fillna('None', inplace=True)\n",
    "combined['BsmtCond'].fillna('None', inplace=True)\n",
    "combined['MasVnrType'].fillna('None', inplace=True)\n",
    "combined['MasVnrArea'].fillna(0, inplace=True)\n",
    "combined['Electrical'].fillna('None', inplace=True)\n",
    "combined['GarageCars'].fillna(0, inplace=True)\n",
    "combined['KitchenQual'].fillna(0, inplace=True)\n",
    "combined['MSZoning'].fillna('None', inplace=True)\n",
    "combined['Utilities'].fillna('None', inplace=True)\n",
    "combined['Functional'].fillna('None', inplace=True)\n",
    "combined['BsmtFullBath'].fillna(0, inplace=True)\n",
    "combined['BsmtHalfBath'].fillna(0, inplace=True)\n",
    "combined['Exterior1st'].fillna('None', inplace=True)\n",
    "combined['Exterior2nd'].fillna('None', inplace=True)\n",
    "combined['GarageArea'].fillna(0, inplace=True)\n",
    "combined['BsmtFinSF2'].fillna(0, inplace=True)\n",
    "combined['BsmtFinSF1'].fillna(0, inplace=True)\n",
    "combined['SaleType'].fillna('None', inplace=True)\n",
    "combined['TotalBsmtSF'].fillna(0, inplace=True)\n",
    "combined['BsmtUnfSF'].fillna(0, inplace=True)"
   ]
  },
  {
   "cell_type": "code",
   "execution_count": 6,
   "metadata": {
    "collapsed": false
   },
   "outputs": [],
   "source": [
    "# create new features\n",
    "\n",
    "# OverallQual\n",
    "\n",
    "def classify_quality(x):\n",
    "    if x <= 3.0:\n",
    "        return 'low'\n",
    "    elif x <= 5.0:\n",
    "        return 'mid'\n",
    "    else:\n",
    "        return 'high'\n",
    "\n",
    "combined['QualityCategory'] = combined.OverallQual.apply(classify_quality)\n",
    "\n",
    "combined['TotalSF'] = combined['TotalBsmtSF'] + combined['1stFlrSF'] + combined['2ndFlrSF']"
   ]
  },
  {
   "cell_type": "code",
   "execution_count": 7,
   "metadata": {
    "collapsed": false
   },
   "outputs": [
    {
     "data": {
      "text/plain": [
       "0"
      ]
     },
     "execution_count": 7,
     "metadata": {},
     "output_type": "execute_result"
    }
   ],
   "source": [
    "combined.isnull().sum().max()"
   ]
  },
  {
   "cell_type": "code",
   "execution_count": 8,
   "metadata": {
    "collapsed": false
   },
   "outputs": [],
   "source": [
    "# some numerical features are actually categories. \n",
    "def add_prefix(x):\n",
    "    return 'SC' + str(x)\n",
    "\n",
    "combined.MSSubClass = combined.MSSubClass.apply(add_prefix)"
   ]
  },
  {
   "cell_type": "code",
   "execution_count": 9,
   "metadata": {
    "collapsed": true
   },
   "outputs": [],
   "source": [
    "import calendar\n",
    "\n",
    "combined['MoSold'] = combined['MoSold'].apply(lambda x: calendar.month_abbr[x])"
   ]
  },
  {
   "cell_type": "code",
   "execution_count": 10,
   "metadata": {
    "collapsed": true
   },
   "outputs": [],
   "source": [
    "categorical_features = combined.select_dtypes(include = [\"object\"]).columns\n",
    "numerical_features = combined.select_dtypes(exclude = [\"object\"]).columns"
   ]
  },
  {
   "cell_type": "code",
   "execution_count": 11,
   "metadata": {
    "collapsed": false
   },
   "outputs": [
    {
     "name": "stdout",
     "output_type": "stream",
     "text": [
      "\n",
      "Skew in numerical features: \n",
      "\n"
     ]
    },
    {
     "data": {
      "text/html": [
       "<div>\n",
       "<table border=\"1\" class=\"dataframe\">\n",
       "  <thead>\n",
       "    <tr style=\"text-align: right;\">\n",
       "      <th></th>\n",
       "      <th>Skew</th>\n",
       "    </tr>\n",
       "  </thead>\n",
       "  <tbody>\n",
       "    <tr>\n",
       "      <th>MiscVal</th>\n",
       "      <td>21.947195</td>\n",
       "    </tr>\n",
       "    <tr>\n",
       "      <th>PoolArea</th>\n",
       "      <td>16.898328</td>\n",
       "    </tr>\n",
       "    <tr>\n",
       "      <th>LotArea</th>\n",
       "      <td>12.822431</td>\n",
       "    </tr>\n",
       "    <tr>\n",
       "      <th>LowQualFinSF</th>\n",
       "      <td>12.088761</td>\n",
       "    </tr>\n",
       "    <tr>\n",
       "      <th>3SsnPorch</th>\n",
       "      <td>11.376065</td>\n",
       "    </tr>\n",
       "    <tr>\n",
       "      <th>KitchenAbvGr</th>\n",
       "      <td>4.302254</td>\n",
       "    </tr>\n",
       "    <tr>\n",
       "      <th>BsmtFinSF2</th>\n",
       "      <td>4.146143</td>\n",
       "    </tr>\n",
       "    <tr>\n",
       "      <th>EnclosedPorch</th>\n",
       "      <td>4.003891</td>\n",
       "    </tr>\n",
       "    <tr>\n",
       "      <th>ScreenPorch</th>\n",
       "      <td>3.946694</td>\n",
       "    </tr>\n",
       "    <tr>\n",
       "      <th>BsmtHalfBath</th>\n",
       "      <td>3.931594</td>\n",
       "    </tr>\n",
       "  </tbody>\n",
       "</table>\n",
       "</div>"
      ],
      "text/plain": [
       "                    Skew\n",
       "MiscVal        21.947195\n",
       "PoolArea       16.898328\n",
       "LotArea        12.822431\n",
       "LowQualFinSF   12.088761\n",
       "3SsnPorch      11.376065\n",
       "KitchenAbvGr    4.302254\n",
       "BsmtFinSF2      4.146143\n",
       "EnclosedPorch   4.003891\n",
       "ScreenPorch     3.946694\n",
       "BsmtHalfBath    3.931594"
      ]
     },
     "execution_count": 11,
     "metadata": {},
     "output_type": "execute_result"
    }
   ],
   "source": [
    "# skewed variables\n",
    "\n",
    "skewed_feats = combined[numerical_features].apply(lambda x: skew(x.dropna())).sort_values(ascending=False)\n",
    "print(\"\\nSkew in numerical features: \\n\")\n",
    "skewness = pd.DataFrame({'Skew' :skewed_feats})\n",
    "skewness.head(10)"
   ]
  },
  {
   "cell_type": "code",
   "execution_count": 12,
   "metadata": {
    "collapsed": true
   },
   "outputs": [],
   "source": [
    "skewness = skewness[abs(skewness) > 0.75]\n",
    "\n",
    "from scipy.special import boxcox1p\n",
    "skewed_features = skewness.index\n",
    "lam = 0.15\n",
    "for feat in skewed_features:\n",
    "    #all_data[feat] += 1\n",
    "    combined[feat] = boxcox1p(combined[feat], lam)"
   ]
  },
  {
   "cell_type": "code",
   "execution_count": 13,
   "metadata": {
    "collapsed": true
   },
   "outputs": [],
   "source": [
    "# convert all categorical variables into numeric\n",
    "\n",
    "combined = pd.get_dummies(combined)"
   ]
  },
  {
   "cell_type": "code",
   "execution_count": 14,
   "metadata": {
    "collapsed": false
   },
   "outputs": [
    {
     "name": "stderr",
     "output_type": "stream",
     "text": [
      "/Users/sergio/anaconda/lib/python3.5/site-packages/statsmodels/nonparametric/kdetools.py:20: VisibleDeprecationWarning: using a non-integer number instead of an integer will result in an error in the future\n",
      "  y = X[:m/2+1] + np.r_[0,X[m/2+1:],0]*1j\n"
     ]
    },
    {
     "data": {
      "image/png": "[encoded data removed]",
      "text/plain": [
       "<matplotlib.figure.Figure at 0x110395ef0>"
      ]
     },
     "metadata": {},
     "output_type": "display_data"
    },
    {
     "data": {
      "image/png": "[encoded data removed]",
      "text/plain": [
       "<matplotlib.figure.Figure at 0x110395f28>"
      ]
     },
     "metadata": {},
     "output_type": "display_data"
    }
   ],
   "source": [
    "# skewed features\n",
    "\n",
    "sns.distplot(combined['GrLivArea'], fit=norm);\n",
    "fig = plt.figure()\n",
    "res = stats.probplot(combined['GrLivArea'], plot=plt)"
   ]
  },
  {
   "cell_type": "code",
   "execution_count": 15,
   "metadata": {
    "collapsed": true
   },
   "outputs": [],
   "source": [
    "# combined['GrLivArea'] = np.log(combined['GrLivArea'])\n",
    "# combined['HasBsmt'] = pd.Series(len(combined['TotalBsmtSF']), index=combined.index)\n",
    "# combined['HasBsmt'] = 0 \n",
    "# combined.loc[combined['TotalBsmtSF']>0,'HasBsmt'] = 1\n",
    "# combined.loc[combined['HasBsmt']==1,'TotalBsmtSF'] = np.log(combined['TotalBsmtSF'])"
   ]
  },
  {
   "cell_type": "code",
   "execution_count": 16,
   "metadata": {
    "collapsed": true
   },
   "outputs": [],
   "source": [
    "# modeling\n",
    "\n",
    "def get_original_datasets(idx, target):\n",
    "    global combined\n",
    "    \n",
    "    train0 = pd.read_csv('data/train.csv')\n",
    "    \n",
    "    targets = train0[target]\n",
    "    train = combined.head(idx)\n",
    "    test = combined.iloc[idx:]\n",
    "    \n",
    "    return train, test, targets\n",
    "\n",
    "train, test, targets = get_original_datasets(idx, 'SalePrice')\n",
    "targets = np.log1p(targets)"
   ]
  },
  {
   "cell_type": "code",
   "execution_count": 17,
   "metadata": {
    "collapsed": false
   },
   "outputs": [
    {
     "name": "stderr",
     "output_type": "stream",
     "text": [
      "/Users/sergio/anaconda/lib/python3.5/site-packages/ipykernel/__main__.py:1: SettingWithCopyWarning: \n",
      "A value is trying to be set on a copy of a slice from a DataFrame\n",
      "\n",
      "See the caveats in the documentation: http://pandas.pydata.org/pandas-docs/stable/indexing.html#indexing-view-versus-copy\n",
      "  if __name__ == '__main__':\n",
      "/Users/sergio/anaconda/lib/python3.5/site-packages/ipykernel/__main__.py:2: SettingWithCopyWarning: \n",
      "A value is trying to be set on a copy of a slice from a DataFrame\n",
      "\n",
      "See the caveats in the documentation: http://pandas.pydata.org/pandas-docs/stable/indexing.html#indexing-view-versus-copy\n",
      "  from ipykernel import kernelapp as app\n"
     ]
    }
   ],
   "source": [
    "train.drop('Id', inplace=True, axis=1)\n",
    "test.drop('Id', inplace=True, axis=1)\n",
    "train = train.drop(train[(train['GrLivArea']>4000) & (targets<300000)].index)\n",
    "columns = train.columns"
   ]
  },
  {
   "cell_type": "code",
   "execution_count": 18,
   "metadata": {
    "collapsed": false
   },
   "outputs": [
    {
     "name": "stdout",
     "output_type": "stream",
     "text": [
      "(1022, 340)\n",
      "(438, 340)\n",
      "(1022,)\n",
      "(438,)\n",
      "(1460,)\n"
     ]
    }
   ],
   "source": [
    "X_train, X_test, y_train, y_test = train_test_split(train, targets, test_size=0.3, random_state=0)\n",
    "\n",
    "print(X_train.shape)\n",
    "print(X_test.shape)\n",
    "print(y_train.shape)\n",
    "print(y_test.shape)\n",
    "print(targets.shape)"
   ]
  },
  {
   "cell_type": "code",
   "execution_count": 19,
   "metadata": {
    "collapsed": false
   },
   "outputs": [],
   "source": [
    "# methods for validation\n",
    "\n",
    "# scorer = make_scorer(mean_squared_error, greater_is_better = False)\n",
    "\n",
    "# def rmse_cv_train(model):\n",
    "#     rmse= np.sqrt(-cross_val_score(model, X_train, y_train, scoring = scorer, cv = 10))\n",
    "#     return(rmse)\n",
    "\n",
    "# def rmse_cv_test(model):\n",
    "#     rmse= np.sqrt(-cross_val_score(model, X_test, y_test, scoring = scorer, cv = 10))\n",
    "#     return(rmse)\n",
    "\n",
    "# def rmse_cv(model):\n",
    "#     rmse= np.sqrt(-cross_val_score(model, X_train, y, scoring=\"neg_mean_squared_error\", cv = 5))\n",
    "#     return(rmse)\n",
    "\n",
    "n_folds = 5\n",
    "\n",
    "def rmsle_cv(model):\n",
    "    kf = KFold(n_folds, shuffle=True, random_state=42).get_n_splits(X_train)\n",
    "    rmse= np.sqrt(-cross_val_score(model, X_train, y_train, scoring=\"neg_mean_squared_error\", cv = kf))\n",
    "    return(rmse)"
   ]
  },
  {
   "cell_type": "code",
   "execution_count": 20,
   "metadata": {
    "collapsed": false
   },
   "outputs": [
    {
     "data": {
      "text/plain": [
       "XGBRegressor(base_score=0.5, colsample_bylevel=1, colsample_bytree=0.4,\n",
       "       gamma=0.045, learning_rate=0.07, max_delta_step=0, max_depth=20,\n",
       "       min_child_weight=1.5, missing=None, n_estimators=150, nthread=-1,\n",
       "       objective='reg:linear', reg_alpha=0.65, reg_lambda=0.45,\n",
       "       scale_pos_weight=1, seed=0, silent=True, subsample=0.95)"
      ]
     },
     "execution_count": 20,
     "metadata": {},
     "output_type": "execute_result"
    }
   ],
   "source": [
    "model = xgb.XGBRegressor(colsample_bytree=0.4,\n",
    "                gamma=0.045,\n",
    "                learning_rate=0.07,\n",
    "                max_depth=20,\n",
    "                min_child_weight=1.5,\n",
    "                n_estimators=150,\n",
    "                reg_alpha=0.65,\n",
    "                reg_lambda=0.45,\n",
    "                subsample=0.95)\n",
    "\n",
    "model.fit(X_train, y_train)"
   ]
  },
  {
   "cell_type": "code",
   "execution_count": 21,
   "metadata": {
    "collapsed": false
   },
   "outputs": [
    {
     "data": {
      "text/plain": [
       "LassoCV(alphas=[1, 0.1, 0.001, 0.0005], copy_X=True, cv=None, eps=0.001,\n",
       "    fit_intercept=True, max_iter=1000, n_alphas=100, n_jobs=1,\n",
       "    normalize=False, positive=False, precompute='auto', random_state=None,\n",
       "    selection='cyclic', tol=0.0001, verbose=False)"
      ]
     },
     "execution_count": 21,
     "metadata": {},
     "output_type": "execute_result"
    }
   ],
   "source": [
    "\n",
    "lasso = LassoCV(alphas = [1, 0.1, 0.001, 0.0005], )\n",
    "lasso.fit(X_train, y_train)"
   ]
  },
  {
   "cell_type": "code",
   "execution_count": 22,
   "metadata": {
    "collapsed": false
   },
   "outputs": [],
   "source": [
    "# score = rmsle_cv(model)\n",
    "# print(\"\\Model score: {:.4f} ({:.4f})\\n\".format(score.mean(), score.std()))\n",
    "\n",
    "# y_train_pred = model.predict(X_train)\n",
    "# y_test_pred = model.predict(X_test)"
   ]
  },
  {
   "cell_type": "code",
   "execution_count": 23,
   "metadata": {
    "collapsed": false
   },
   "outputs": [
    {
     "name": "stdout",
     "output_type": "stream",
     "text": [
      "\\Model score: 0.1223 (0.0181)\n",
      "\n"
     ]
    }
   ],
   "source": [
    "score = rmsle_cv(lasso)\n",
    "print(\"\\Model score: {:.4f} ({:.4f})\\n\".format(score.mean(), score.std()))\n",
    "y_train_pred = lasso.predict(X_train)\n",
    "y_test_pred = lasso.predict(X_test)"
   ]
  },
  {
   "cell_type": "code",
   "execution_count": 24,
   "metadata": {
    "collapsed": false
   },
   "outputs": [
    {
     "data": {
      "text/plain": [
       "<matplotlib.axes._subplots.AxesSubplot at 0x110e3c3c8>"
      ]
     },
     "execution_count": 24,
     "metadata": {},
     "output_type": "execute_result"
    },
    {
     "data": {
      "image/png": "[encoded data removed]",
      "text/plain": [
       "<matplotlib.figure.Figure at 0x110e43198>"
      ]
     },
     "metadata": {},
     "output_type": "display_data"
    }
   ],
   "source": [
    "preds = pd.DataFrame({\"preds\":model.predict(X_train), \"true\":y_train})\n",
    "preds[\"residuals\"] = preds[\"true\"] - preds[\"preds\"]\n",
    "preds.plot(x = \"preds\", y = \"residuals\",kind = \"scatter\")"
   ]
  },
  {
   "cell_type": "code",
   "execution_count": 27,
   "metadata": {
    "collapsed": false
   },
   "outputs": [],
   "source": [
    "pred_xg = model.predict(test)\n",
    "pred_lasso = lasso.predict(test)\n",
    "\n",
    "output = (pred_xg + pred_lasso) / 2\n",
    "output = np.expm1(output)\n",
    "df_output = pd.DataFrame()\n",
    "aux = pd.read_csv('data/test.csv')\n",
    "df_output['Id'] = aux['Id']\n",
    "df_output['SalePrice'] = output\n",
    "\n",
    "df_output[['Id','SalePrice']].to_csv('submissions/sn_submission.csv',index=False)"
   ]
  },
  {
   "cell_type": "code",
   "execution_count": null,
   "metadata": {
    "collapsed": true
   },
   "outputs": [],
   "source": []
  }
 ],
 "metadata": {
  "anaconda-cloud": {},
  "kernelspec": {
   "display_name": "Python [default]",
   "language": "python",
   "name": "python3"
  },
  "language_info": {
   "codemirror_mode": {
    "name": "ipython",
    "version": 3
   },
   "file_extension": ".py",
   "mimetype": "text/x-python",
   "name": "python",
   "nbconvert_exporter": "python",
   "pygments_lexer": "ipython3",
   "version": "3.5.2"
  }
 },
 "nbformat": 4,
 "nbformat_minor": 2
}
