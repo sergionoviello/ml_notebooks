{
 "cells": [
  {
   "cell_type": "code",
<<<<<<< HEAD
   "execution_count": 47,
=======
   "execution_count": 1,
>>>>>>> adding more projects
   "metadata": {
    "collapsed": true
   },
   "outputs": [],
   "source": [
    "import pandas as pd\n",
    "import numpy as np\n",
    "\n",
    "import matplotlib.pyplot as plt\n",
    "import seaborn as sns\n",
    "%matplotlib inline\n",
    "\n",
<<<<<<< HEAD
    "from scipy.stats import norm\n",
    "from scipy import stats\n",
    "\n",
=======
>>>>>>> adding more projects
    "from sklearn.preprocessing import StandardScaler\n",
    "from sklearn.model_selection import cross_val_score, train_test_split\n",
    "\n",
    "from sklearn.linear_model import LinearRegression, RidgeCV, LassoCV, ElasticNetCV\n",
    "from sklearn.metrics import mean_squared_error, make_scorer"
   ]
  },
  {
   "cell_type": "code",
<<<<<<< HEAD
   "execution_count": 48,
=======
   "execution_count": 2,
>>>>>>> adding more projects
   "metadata": {
    "collapsed": true
   },
   "outputs": [],
   "source": [
    "def combined_dataset(targetName):\n",
    "    train = pd.read_csv(\"data/train.csv\")\n",
    "    test = pd.read_csv(\"data/test.csv\")\n",
    "    train.drop(targetName, 1, inplace=True)\n",
    "    combined = train.append(test)\n",
    "    combined.reset_index(inplace=True)\n",
    "    combined.drop('index', inplace=True, axis=1)\n",
    "    \n",
    "    return combined, train.shape[0]"
   ]
  },
  {
   "cell_type": "code",
<<<<<<< HEAD
   "execution_count": 49,
=======
   "execution_count": 3,
>>>>>>> adding more projects
   "metadata": {
    "collapsed": true
   },
   "outputs": [],
   "source": [
    "combined, idx = combined_dataset('SalePrice')"
   ]
  },
  {
   "cell_type": "code",
<<<<<<< HEAD
   "execution_count": 50,
=======
   "execution_count": 4,
>>>>>>> adding more projects
   "metadata": {
    "collapsed": true
   },
   "outputs": [],
   "source": [
    "# remove missing data"
   ]
  },
  {
   "cell_type": "code",
<<<<<<< HEAD
   "execution_count": 51,
=======
   "execution_count": 5,
>>>>>>> adding more projects
   "metadata": {
    "collapsed": true
   },
   "outputs": [],
   "source": [
    "combined[\"PoolQC\"].fillna(\"No\", inplace=True)\n",
    "combined[\"PoolArea\"].fillna(0, inplace=True)\n",
    "combined['MiscFeature'].fillna('None', inplace=True)\n",
    "combined['Alley'].fillna('None', inplace=True)\n",
    "combined['Fence'].fillna('None', inplace=True)\n",
    "combined['FireplaceQu'].fillna('None', inplace=True)\n",
    "combined['LotFrontage'].fillna(0, inplace=True)\n",
    "combined['GarageYrBlt'].fillna(combined['YearBuilt'], inplace=True)\n",
    "combined[\"GarageType\"].fillna(\"None\", inplace=True)\n",
    "combined[\"GarageQual\"].fillna(\"None\", inplace=True)\n",
    "combined[\"GarageCond\"].fillna(\"None\", inplace=True)\n",
    "combined[\"GarageFinish\"].fillna(\"None\", inplace=True)\n",
    "combined['BsmtFinType1'].fillna('None', inplace=True)\n",
    "combined['BsmtFinType2'].fillna('None', inplace=True)\n",
    "combined['BsmtExposure'].fillna('None', inplace=True)\n",
    "combined['BsmtQual'].fillna('None', inplace=True)\n",
    "combined['BsmtCond'].fillna('None', inplace=True)\n",
    "combined['MasVnrType'].fillna('None', inplace=True)\n",
    "combined['MasVnrArea'].fillna(0, inplace=True)\n",
    "combined['Electrical'].fillna('None', inplace=True)\n",
    "combined['GarageCars'].fillna(0, inplace=True)\n",
    "combined['KitchenQual'].fillna(0, inplace=True)\n",
    "combined['MSZoning'].fillna('None', inplace=True)\n",
    "combined['Utilities'].fillna('None', inplace=True)\n",
    "combined['Functional'].fillna('None', inplace=True)\n",
    "combined['BsmtFullBath'].fillna(0, inplace=True)\n",
    "combined['BsmtHalfBath'].fillna(0, inplace=True)\n",
    "combined['Exterior1st'].fillna('None', inplace=True)\n",
    "combined['Exterior2nd'].fillna('None', inplace=True)\n",
    "combined['GarageArea'].fillna(0, inplace=True)\n",
    "combined['BsmtFinSF2'].fillna(0, inplace=True)\n",
    "combined['BsmtFinSF1'].fillna(0, inplace=True)\n",
    "combined['SaleType'].fillna('None', inplace=True)\n",
    "combined['TotalBsmtSF'].fillna(0, inplace=True)\n",
    "combined['BsmtUnfSF'].fillna(0, inplace=True)"
   ]
  },
  {
   "cell_type": "code",
<<<<<<< HEAD
   "execution_count": 52,
   "metadata": {
    "collapsed": false
   },
=======
   "execution_count": 6,
   "metadata": {},
>>>>>>> adding more projects
   "outputs": [
    {
     "data": {
      "text/plain": [
       "0"
      ]
     },
<<<<<<< HEAD
     "execution_count": 52,
=======
     "execution_count": 6,
>>>>>>> adding more projects
     "metadata": {},
     "output_type": "execute_result"
    }
   ],
   "source": [
    "combined.isnull().sum().max()"
   ]
  },
  {
   "cell_type": "code",
<<<<<<< HEAD
   "execution_count": 53,
=======
   "execution_count": 7,
>>>>>>> adding more projects
   "metadata": {
    "collapsed": true
   },
   "outputs": [],
   "source": [
    "# some numerical features are actually categories. \n",
    "def add_prefix(x):\n",
    "    return 'SC' + str(x)\n",
    "\n",
    "combined.MSSubClass = combined.MSSubClass.apply(add_prefix)"
   ]
  },
  {
   "cell_type": "code",
<<<<<<< HEAD
   "execution_count": 54,
=======
   "execution_count": 8,
>>>>>>> adding more projects
   "metadata": {
    "collapsed": true
   },
   "outputs": [],
   "source": [
    "import calendar\n",
    "\n",
    "combined['MoSold'] = combined['MoSold'].apply(lambda x: calendar.month_abbr[x])"
   ]
  },
  {
   "cell_type": "code",
<<<<<<< HEAD
   "execution_count": 55,
=======
   "execution_count": 9,
>>>>>>> adding more projects
   "metadata": {
    "collapsed": true
   },
   "outputs": [],
   "source": [
    "categorical_features = combined.select_dtypes(include = [\"object\"]).columns\n",
    "numerical_features = combined.select_dtypes(exclude = [\"object\"]).columns"
   ]
  },
  {
   "cell_type": "code",
<<<<<<< HEAD
   "execution_count": 56,
=======
   "execution_count": 10,
>>>>>>> adding more projects
   "metadata": {
    "collapsed": true
   },
   "outputs": [],
   "source": [
    "# convert all categorical variables into numeric\n",
    "\n",
    "combined = pd.get_dummies(combined)"
   ]
  },
  {
   "cell_type": "code",
<<<<<<< HEAD
   "execution_count": 57,
   "metadata": {
    "collapsed": false
   },
   "outputs": [
    {
     "name": "stderr",
     "output_type": "stream",
     "text": [
      "/Users/sergio/anaconda/lib/python3.5/site-packages/statsmodels/nonparametric/kdetools.py:20: VisibleDeprecationWarning: using a non-integer number instead of an integer will result in an error in the future\n",
      "  y = X[:m/2+1] + np.r_[0,X[m/2+1:],0]*1j\n"
     ]
    },
    {
     "data": {
      "image/png": "iVBORw0KGgoAAAANSUhEUgAAAYIAAAEFCAYAAADuT+DpAAAABHNCSVQICAgIfAhkiAAAAAlwSFlz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\nlvr5gCZNeAAAAABJRU5ErkJggg==\n",
      "text/plain": [
       "<matplotlib.figure.Figure at 0x1102ccd30>"
      ]
     },
     "metadata": {},
     "output_type": "display_data"
    },
    {
     "data": {
      "image/png": "iVBORw0KGgoAAAANSUhEUgAAAYgAAAETCAYAAAAs4pGmAAAABHNCSVQICAgIfAhkiAAAAAlwSFlz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\nRK5CYII=\n",
      "text/plain": [
       "<matplotlib.figure.Figure at 0x1102cc668>"
      ]
     },
     "metadata": {},
     "output_type": "display_data"
    }
   ],
   "source": [
    "# skewed features\n",
    "\n",
    "sns.distplot(combined['GrLivArea'], fit=norm);\n",
    "fig = plt.figure()\n",
    "res = stats.probplot(combined['GrLivArea'], plot=plt)"
   ]
  },
  {
   "cell_type": "code",
   "execution_count": 58,
   "metadata": {
    "collapsed": true
   },
   "outputs": [],
   "source": [
    "combined['GrLivArea'] = np.log(combined['GrLivArea'])\n",
    "combined['HasBsmt'] = pd.Series(len(combined['TotalBsmtSF']), index=combined.index)\n",
    "combined['HasBsmt'] = 0 \n",
    "combined.loc[combined['TotalBsmtSF']>0,'HasBsmt'] = 1\n",
    "combined.loc[combined['HasBsmt']==1,'TotalBsmtSF'] = np.log(combined['TotalBsmtSF'])"
=======
   "execution_count": 11,
   "metadata": {},
   "outputs": [
    {
     "name": "stdout",
     "output_type": "stream",
     "text": [
      "uint8 Index(['MSSubClass_SC120', 'MSSubClass_SC150', 'MSSubClass_SC160',\n",
      "       'MSSubClass_SC180', 'MSSubClass_SC190', 'MSSubClass_SC20',\n",
      "       'MSSubClass_SC30', 'MSSubClass_SC40', 'MSSubClass_SC45',\n",
      "       'MSSubClass_SC50',\n",
      "       ...\n",
      "       'SaleType_New', 'SaleType_None', 'SaleType_Oth', 'SaleType_WD',\n",
      "       'SaleCondition_Abnorml', 'SaleCondition_AdjLand',\n",
      "       'SaleCondition_Alloca', 'SaleCondition_Family', 'SaleCondition_Normal',\n",
      "       'SaleCondition_Partial'],\n",
      "      dtype='object', length=302)\n",
      "int64 Index(['Id', 'LotArea', 'OverallQual', 'OverallCond', 'YearBuilt',\n",
      "       'YearRemodAdd', '1stFlrSF', '2ndFlrSF', 'LowQualFinSF', 'GrLivArea',\n",
      "       'FullBath', 'HalfBath', 'BedroomAbvGr', 'KitchenAbvGr', 'TotRmsAbvGrd',\n",
      "       'Fireplaces', 'WoodDeckSF', 'OpenPorchSF', 'EnclosedPorch', '3SsnPorch',\n",
      "       'ScreenPorch', 'PoolArea', 'MiscVal', 'YrSold'],\n",
      "      dtype='object')\n",
      "float64 Index(['LotFrontage', 'MasVnrArea', 'BsmtFinSF1', 'BsmtFinSF2', 'BsmtUnfSF',\n",
      "       'TotalBsmtSF', 'BsmtFullBath', 'BsmtHalfBath', 'GarageYrBlt',\n",
      "       'GarageCars', 'GarageArea'],\n",
      "      dtype='object')\n"
     ]
    }
   ],
   "source": [
    "types = combined.columns.to_series().groupby(combined.dtypes).groups\n",
    "for k,v in types.items():\n",
    "    print(k, v)"
   ]
  },
  {
   "cell_type": "code",
   "execution_count": 12,
   "metadata": {},
   "outputs": [
    {
     "data": {
      "text/html": [
       "<div>\n",
       "<style>\n",
       "    .dataframe thead tr:only-child th {\n",
       "        text-align: right;\n",
       "    }\n",
       "\n",
       "    .dataframe thead th {\n",
       "        text-align: left;\n",
       "    }\n",
       "\n",
       "    .dataframe tbody tr th {\n",
       "        vertical-align: top;\n",
       "    }\n",
       "</style>\n",
       "<table border=\"1\" class=\"dataframe\">\n",
       "  <thead>\n",
       "    <tr style=\"text-align: right;\">\n",
       "      <th></th>\n",
       "      <th>Id</th>\n",
       "      <th>LotFrontage</th>\n",
       "      <th>LotArea</th>\n",
       "      <th>OverallQual</th>\n",
       "      <th>OverallCond</th>\n",
       "      <th>YearBuilt</th>\n",
       "      <th>YearRemodAdd</th>\n",
       "      <th>MasVnrArea</th>\n",
       "      <th>BsmtFinSF1</th>\n",
       "      <th>BsmtFinSF2</th>\n",
       "      <th>...</th>\n",
       "      <th>SaleType_New</th>\n",
       "      <th>SaleType_None</th>\n",
       "      <th>SaleType_Oth</th>\n",
       "      <th>SaleType_WD</th>\n",
       "      <th>SaleCondition_Abnorml</th>\n",
       "      <th>SaleCondition_AdjLand</th>\n",
       "      <th>SaleCondition_Alloca</th>\n",
       "      <th>SaleCondition_Family</th>\n",
       "      <th>SaleCondition_Normal</th>\n",
       "      <th>SaleCondition_Partial</th>\n",
       "    </tr>\n",
       "  </thead>\n",
       "  <tbody>\n",
       "    <tr>\n",
       "      <th>0</th>\n",
       "      <td>1</td>\n",
       "      <td>65.0</td>\n",
       "      <td>8450</td>\n",
       "      <td>7</td>\n",
       "      <td>5</td>\n",
       "      <td>2003</td>\n",
       "      <td>2003</td>\n",
       "      <td>196.0</td>\n",
       "      <td>706.0</td>\n",
       "      <td>0.0</td>\n",
       "      <td>...</td>\n",
       "      <td>0</td>\n",
       "      <td>0</td>\n",
       "      <td>0</td>\n",
       "      <td>1</td>\n",
       "      <td>0</td>\n",
       "      <td>0</td>\n",
       "      <td>0</td>\n",
       "      <td>0</td>\n",
       "      <td>1</td>\n",
       "      <td>0</td>\n",
       "    </tr>\n",
       "    <tr>\n",
       "      <th>1</th>\n",
       "      <td>2</td>\n",
       "      <td>80.0</td>\n",
       "      <td>9600</td>\n",
       "      <td>6</td>\n",
       "      <td>8</td>\n",
       "      <td>1976</td>\n",
       "      <td>1976</td>\n",
       "      <td>0.0</td>\n",
       "      <td>978.0</td>\n",
       "      <td>0.0</td>\n",
       "      <td>...</td>\n",
       "      <td>0</td>\n",
       "      <td>0</td>\n",
       "      <td>0</td>\n",
       "      <td>1</td>\n",
       "      <td>0</td>\n",
       "      <td>0</td>\n",
       "      <td>0</td>\n",
       "      <td>0</td>\n",
       "      <td>1</td>\n",
       "      <td>0</td>\n",
       "    </tr>\n",
       "    <tr>\n",
       "      <th>2</th>\n",
       "      <td>3</td>\n",
       "      <td>68.0</td>\n",
       "      <td>11250</td>\n",
       "      <td>7</td>\n",
       "      <td>5</td>\n",
       "      <td>2001</td>\n",
       "      <td>2002</td>\n",
       "      <td>162.0</td>\n",
       "      <td>486.0</td>\n",
       "      <td>0.0</td>\n",
       "      <td>...</td>\n",
       "      <td>0</td>\n",
       "      <td>0</td>\n",
       "      <td>0</td>\n",
       "      <td>1</td>\n",
       "      <td>0</td>\n",
       "      <td>0</td>\n",
       "      <td>0</td>\n",
       "      <td>0</td>\n",
       "      <td>1</td>\n",
       "      <td>0</td>\n",
       "    </tr>\n",
       "    <tr>\n",
       "      <th>3</th>\n",
       "      <td>4</td>\n",
       "      <td>60.0</td>\n",
       "      <td>9550</td>\n",
       "      <td>7</td>\n",
       "      <td>5</td>\n",
       "      <td>1915</td>\n",
       "      <td>1970</td>\n",
       "      <td>0.0</td>\n",
       "      <td>216.0</td>\n",
       "      <td>0.0</td>\n",
       "      <td>...</td>\n",
       "      <td>0</td>\n",
       "      <td>0</td>\n",
       "      <td>0</td>\n",
       "      <td>1</td>\n",
       "      <td>1</td>\n",
       "      <td>0</td>\n",
       "      <td>0</td>\n",
       "      <td>0</td>\n",
       "      <td>0</td>\n",
       "      <td>0</td>\n",
       "    </tr>\n",
       "    <tr>\n",
       "      <th>4</th>\n",
       "      <td>5</td>\n",
       "      <td>84.0</td>\n",
       "      <td>14260</td>\n",
       "      <td>8</td>\n",
       "      <td>5</td>\n",
       "      <td>2000</td>\n",
       "      <td>2000</td>\n",
       "      <td>350.0</td>\n",
       "      <td>655.0</td>\n",
       "      <td>0.0</td>\n",
       "      <td>...</td>\n",
       "      <td>0</td>\n",
       "      <td>0</td>\n",
       "      <td>0</td>\n",
       "      <td>1</td>\n",
       "      <td>0</td>\n",
       "      <td>0</td>\n",
       "      <td>0</td>\n",
       "      <td>0</td>\n",
       "      <td>1</td>\n",
       "      <td>0</td>\n",
       "    </tr>\n",
       "  </tbody>\n",
       "</table>\n",
       "<p>5 rows × 337 columns</p>\n",
       "</div>"
      ],
      "text/plain": [
       "   Id  LotFrontage  LotArea  OverallQual  OverallCond  YearBuilt  \\\n",
       "0   1         65.0     8450            7            5       2003   \n",
       "1   2         80.0     9600            6            8       1976   \n",
       "2   3         68.0    11250            7            5       2001   \n",
       "3   4         60.0     9550            7            5       1915   \n",
       "4   5         84.0    14260            8            5       2000   \n",
       "\n",
       "   YearRemodAdd  MasVnrArea  BsmtFinSF1  BsmtFinSF2          ...            \\\n",
       "0          2003       196.0       706.0         0.0          ...             \n",
       "1          1976         0.0       978.0         0.0          ...             \n",
       "2          2002       162.0       486.0         0.0          ...             \n",
       "3          1970         0.0       216.0         0.0          ...             \n",
       "4          2000       350.0       655.0         0.0          ...             \n",
       "\n",
       "   SaleType_New  SaleType_None  SaleType_Oth  SaleType_WD  \\\n",
       "0             0              0             0            1   \n",
       "1             0              0             0            1   \n",
       "2             0              0             0            1   \n",
       "3             0              0             0            1   \n",
       "4             0              0             0            1   \n",
       "\n",
       "   SaleCondition_Abnorml  SaleCondition_AdjLand  SaleCondition_Alloca  \\\n",
       "0                      0                      0                     0   \n",
       "1                      0                      0                     0   \n",
       "2                      0                      0                     0   \n",
       "3                      1                      0                     0   \n",
       "4                      0                      0                     0   \n",
       "\n",
       "   SaleCondition_Family  SaleCondition_Normal  SaleCondition_Partial  \n",
       "0                     0                     1                      0  \n",
       "1                     0                     1                      0  \n",
       "2                     0                     1                      0  \n",
       "3                     0                     0                      0  \n",
       "4                     0                     1                      0  \n",
       "\n",
       "[5 rows x 337 columns]"
      ]
     },
     "execution_count": 12,
     "metadata": {},
     "output_type": "execute_result"
    }
   ],
   "source": [
    "combined.head()"
>>>>>>> adding more projects
   ]
  },
  {
   "cell_type": "code",
<<<<<<< HEAD
   "execution_count": 59,
=======
   "execution_count": 13,
>>>>>>> adding more projects
   "metadata": {
    "collapsed": true
   },
   "outputs": [],
   "source": [
    "# modeling\n",
    "\n",
    "def get_original_datasets(idx, target):\n",
    "    global combined\n",
    "    \n",
    "    train0 = pd.read_csv('data/train.csv')\n",
    "    \n",
    "    targets = train0[target]\n",
    "    train = combined.head(idx)\n",
    "    test = combined.iloc[idx:]\n",
    "    \n",
    "    return train, test, targets\n",
    "\n",
    "train, test, targets = get_original_datasets(idx, 'SalePrice')\n",
    "targets = np.log1p(targets)"
   ]
  },
  {
   "cell_type": "code",
<<<<<<< HEAD
   "execution_count": 60,
   "metadata": {
    "collapsed": false
   },
=======
   "execution_count": 14,
   "metadata": {},
>>>>>>> adding more projects
   "outputs": [
    {
     "name": "stderr",
     "output_type": "stream",
     "text": [
<<<<<<< HEAD
      "/Users/sergio/anaconda/lib/python3.5/site-packages/ipykernel/__main__.py:1: SettingWithCopyWarning: \n",
      "A value is trying to be set on a copy of a slice from a DataFrame\n",
      "\n",
      "See the caveats in the documentation: http://pandas.pydata.org/pandas-docs/stable/indexing.html#indexing-view-versus-copy\n",
      "  if __name__ == '__main__':\n",
      "/Users/sergio/anaconda/lib/python3.5/site-packages/ipykernel/__main__.py:2: SettingWithCopyWarning: \n",
      "A value is trying to be set on a copy of a slice from a DataFrame\n",
      "\n",
      "See the caveats in the documentation: http://pandas.pydata.org/pandas-docs/stable/indexing.html#indexing-view-versus-copy\n",
      "  from ipykernel import kernelapp as app\n"
=======
      "C:\\Users\\sergio\\Anaconda3\\envs\\venv\\lib\\site-packages\\ipykernel_launcher.py:1: SettingWithCopyWarning: \n",
      "A value is trying to be set on a copy of a slice from a DataFrame\n",
      "\n",
      "See the caveats in the documentation: http://pandas.pydata.org/pandas-docs/stable/indexing.html#indexing-view-versus-copy\n",
      "  \"\"\"Entry point for launching an IPython kernel.\n",
      "C:\\Users\\sergio\\Anaconda3\\envs\\venv\\lib\\site-packages\\ipykernel_launcher.py:2: SettingWithCopyWarning: \n",
      "A value is trying to be set on a copy of a slice from a DataFrame\n",
      "\n",
      "See the caveats in the documentation: http://pandas.pydata.org/pandas-docs/stable/indexing.html#indexing-view-versus-copy\n",
      "  \n"
>>>>>>> adding more projects
     ]
    }
   ],
   "source": [
    "train.drop('Id', inplace=True, axis=1)\n",
    "test.drop('Id', inplace=True, axis=1)\n",
    "\n",
    "columns = train.columns"
   ]
  },
  {
   "cell_type": "code",
<<<<<<< HEAD
   "execution_count": 68,
   "metadata": {
    "collapsed": false
   },
=======
   "execution_count": 15,
   "metadata": {},
>>>>>>> adding more projects
   "outputs": [
    {
     "name": "stdout",
     "output_type": "stream",
     "text": [
<<<<<<< HEAD
      "(1022, 337)\n",
      "(438, 337)\n",
      "(1022,)\n",
      "(438,)\n",
      "(1460,)\n"
=======
      "(1022, 336)\n",
      "(438, 336)\n",
      "(1022,)\n",
      "(438,)\n"
>>>>>>> adding more projects
     ]
    }
   ],
   "source": [
    "X_train, X_test, y_train, y_test = train_test_split(train, targets, test_size=0.3, random_state=0)\n",
    "\n",
    "print(X_train.shape)\n",
    "print(X_test.shape)\n",
    "print(y_train.shape)\n",
<<<<<<< HEAD
    "print(y_test.shape)\n",
    "print(targets.shape)"
=======
    "print(y_test.shape)"
>>>>>>> adding more projects
   ]
  },
  {
   "cell_type": "code",
<<<<<<< HEAD
   "execution_count": 62,
   "metadata": {
    "collapsed": false
=======
   "execution_count": 16,
   "metadata": {
    "collapsed": true
>>>>>>> adding more projects
   },
   "outputs": [],
   "source": [
    "# methods for validation\n",
    "\n",
    "scorer = make_scorer(mean_squared_error, greater_is_better = False)\n",
    "\n",
    "def rmse_cv_train(model):\n",
    "    rmse= np.sqrt(-cross_val_score(model, X_train, y_train, scoring = scorer, cv = 10))\n",
    "    return(rmse)\n",
    "\n",
    "def rmse_cv_test(model):\n",
    "    rmse= np.sqrt(-cross_val_score(model, X_test, y_test, scoring = scorer, cv = 10))\n",
<<<<<<< HEAD
    "    return(rmse)\n",
    "\n",
    "def rmse_cv(model):\n",
    "    rmse= np.sqrt(-cross_val_score(model, X_train, y, scoring=\"neg_mean_squared_error\", cv = 5))\n",
=======
>>>>>>> adding more projects
    "    return(rmse)"
   ]
  },
  {
   "cell_type": "code",
<<<<<<< HEAD
   "execution_count": 63,
   "metadata": {
    "collapsed": false
   },
=======
   "execution_count": 17,
   "metadata": {},
>>>>>>> adding more projects
   "outputs": [
    {
     "data": {
      "text/plain": [
<<<<<<< HEAD
       "LassoCV(alphas=[1, 0.1, 0.001, 0.0005], copy_X=True, cv=None, eps=0.001,\n",
       "    fit_intercept=True, max_iter=1000, n_alphas=100, n_jobs=1,\n",
       "    normalize=False, positive=False, precompute='auto', random_state=None,\n",
       "    selection='cyclic', tol=0.0001, verbose=False)"
      ]
     },
     "execution_count": 63,
=======
       "LassoCV(alphas=[0.0001, 0.0003, 0.0006, 0.001, 0.003, 0.006, 0.01, 0.03, 0.06, 0.1, 0.3, 0.6, 1],\n",
       "    copy_X=True, cv=10, eps=0.001, fit_intercept=True, max_iter=50000,\n",
       "    n_alphas=100, n_jobs=1, normalize=False, positive=False,\n",
       "    precompute='auto', random_state=None, selection='cyclic', tol=0.0001,\n",
       "    verbose=False)"
      ]
     },
     "execution_count": 17,
>>>>>>> adding more projects
     "metadata": {},
     "output_type": "execute_result"
    }
   ],
   "source": [
<<<<<<< HEAD
    "model = LassoCV(alphas = [1, 0.1, 0.001, 0.0005], )\n",
=======
    "model = LassoCV(alphas = [0.0001, 0.0003, 0.0006, 0.001, 0.003, 0.006, 0.01, 0.03, 0.06, 0.1, \n",
    "                          0.3, 0.6, 1], \n",
    "                max_iter = 50000, cv = 10)\n",
>>>>>>> adding more projects
    "model.fit(X_train, y_train)"
   ]
  },
  {
   "cell_type": "code",
<<<<<<< HEAD
   "execution_count": 64,
   "metadata": {
    "collapsed": false
   },
=======
   "execution_count": 18,
   "metadata": {},
>>>>>>> adding more projects
   "outputs": [
    {
     "name": "stdout",
     "output_type": "stream",
     "text": [
<<<<<<< HEAD
      "RMSE on Training set : 0.121486319745\n"
     ]
    },
    {
     "name": "stderr",
     "output_type": "stream",
     "text": [
      "/Users/sergio/anaconda/lib/python3.5/site-packages/sklearn/linear_model/coordinate_descent.py:484: ConvergenceWarning: Objective did not converge. You might want to increase the number of iterations. Fitting data with very small alpha may cause precision problems.\n",
      "  ConvergenceWarning)\n"
     ]
    },
    {
     "name": "stdout",
     "output_type": "stream",
     "text": [
      "RMSE on Test set : 0.154807899903\n"
=======
      "RMSE on Training set : 0.123375734876\n",
      "RMSE on Test set : 0.159529225128\n"
>>>>>>> adding more projects
     ]
    }
   ],
   "source": [
    "print(\"RMSE on Training set :\", rmse_cv_train(model).mean())\n",
    "print(\"RMSE on Test set :\", rmse_cv_test(model).mean())\n",
    "y_train_pred = model.predict(X_train)\n",
    "y_test_pred = model.predict(X_test)"
   ]
  },
  {
   "cell_type": "code",
<<<<<<< HEAD
   "execution_count": 69,
   "metadata": {
    "collapsed": false
   },
   "outputs": [
    {
     "data": {
      "text/plain": [
       "<matplotlib.axes._subplots.AxesSubplot at 0x110bbdc88>"
      ]
     },
     "execution_count": 69,
     "metadata": {},
     "output_type": "execute_result"
    },
    {
     "data": {
      "image/png": "iVBORw0KGgoAAAANSUhEUgAAAYUAAAEFCAYAAAAMk/uQAAAABHNCSVQICAgIfAhkiAAAAAlwSFlz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\n/n+0QX3L6/NKhgAAAABJRU5ErkJggg==\n",
      "text/plain": [
       "<matplotlib.figure.Figure at 0x1104e1438>"
      ]
     },
     "metadata": {},
     "output_type": "display_data"
    }
   ],
   "source": [
    "preds = pd.DataFrame({\"preds\":model.predict(X_train), \"true\":y_train})\n",
    "preds[\"residuals\"] = preds[\"true\"] - preds[\"preds\"]\n",
    "preds.plot(x = \"preds\", y = \"residuals\",kind = \"scatter\")"
   ]
  },
  {
   "cell_type": "code",
   "execution_count": 66,
   "metadata": {
    "collapsed": false
   },
   "outputs": [
    {
     "data": {
      "image/png": "iVBORw0KGgoAAAANSUhEUgAAAYUAAAETCAYAAADZHBoWAAAABHNCSVQICAgIfAhkiAAAAAlwSFlz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\n",
      "text/plain": [
       "<matplotlib.figure.Figure at 0x11039f438>"
=======
   "execution_count": 19,
   "metadata": {},
   "outputs": [
    {
     "data": {
      "image/png": "iVBORw0KGgoAAAANSUhEUgAAAZAAAAEWCAYAAABIVsEJAAAABHNCSVQICAgIfAhkiAAAAAlwSFlz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\nZmVxAjEzs7I4gZiZWVmcQMzMrCz/H6mwOW/L7GRFAAAAAElFTkSuQmCC\n",
      "text/plain": [
       "<matplotlib.figure.Figure at 0x2160c718a20>"
>>>>>>> adding more projects
      ]
     },
     "metadata": {},
     "output_type": "display_data"
    },
    {
     "data": {
<<<<<<< HEAD
      "image/png": "iVBORw0KGgoAAAANSUhEUgAAAYUAAAETCAYAAADZHBoWAAAABHNCSVQICAgIfAhkiAAAAAlwSFlz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\nMzOrc1EwM7M6FwUzM6tzUTAzs7qfMqyZgX97+xgAAAAASUVORK5CYII=\n",
      "text/plain": [
       "<matplotlib.figure.Figure at 0x1103555f8>"
=======
      "image/png": "iVBORw0KGgoAAAANSUhEUgAAAY4AAAEWCAYAAABxMXBSAAAABHNCSVQICAgIfAhkiAAAAAlwSFlz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\nYII=\n",
      "text/plain": [
       "<matplotlib.figure.Figure at 0x2160bf05ba8>"
>>>>>>> adding more projects
      ]
     },
     "metadata": {},
     "output_type": "display_data"
    }
   ],
   "source": [
    "# Plot residuals\n",
    "plt.scatter(y_train_pred, y_train_pred - y_train, c = \"blue\", marker = \"s\", label = \"Training data\")\n",
    "plt.scatter(y_test_pred, y_test_pred - y_test, c = \"lightgreen\", marker = \"s\", label = \"Validation data\")\n",
    "plt.title(\"Linear regression\")\n",
    "plt.xlabel(\"Predicted values\")\n",
    "plt.ylabel(\"Residuals\")\n",
    "plt.legend(loc = \"upper left\")\n",
    "plt.hlines(y = 0, xmin = 10.5, xmax = 13.5, color = \"red\")\n",
    "plt.show()\n",
    "\n",
    "# Plot predictions\n",
    "plt.scatter(y_train_pred, y_train, c = \"blue\", marker = \"s\", label = \"Training data\")\n",
    "plt.scatter(y_test_pred, y_test, c = \"lightgreen\", marker = \"s\", label = \"Validation data\")\n",
    "plt.title(\"Linear regression\")\n",
    "plt.xlabel(\"Predicted values\")\n",
    "plt.ylabel(\"Real values\")\n",
    "plt.legend(loc = \"upper left\")\n",
    "plt.plot([10.5, 13.5], [10.5, 13.5], c = \"red\")\n",
    "plt.show()"
   ]
  },
  {
   "cell_type": "code",
<<<<<<< HEAD
   "execution_count": 67,
   "metadata": {
    "collapsed": false
=======
   "execution_count": 20,
   "metadata": {
    "collapsed": true
>>>>>>> adding more projects
   },
   "outputs": [],
   "source": [
    "output = model.predict(test)\n",
    "df_output = pd.DataFrame()\n",
    "aux = pd.read_csv('data/test.csv')\n",
    "df_output['Id'] = aux['Id']\n",
    "df_output['SalePrice'] = output\n",
    "\n",
    "df_output[['Id','SalePrice']].to_csv('submissions/sn_submission.csv',index=False)"
   ]
  },
  {
   "cell_type": "code",
   "execution_count": null,
   "metadata": {
    "collapsed": true
   },
   "outputs": [],
   "source": []
<<<<<<< HEAD
  },
  {
   "cell_type": "code",
   "execution_count": null,
   "metadata": {
    "collapsed": true
   },
   "outputs": [],
   "source": []
  }
 ],
 "metadata": {
  "anaconda-cloud": {},
  "kernelspec": {
   "display_name": "Python [default]",
=======
  }
 ],
 "metadata": {
  "kernelspec": {
   "display_name": "Python 3",
>>>>>>> adding more projects
   "language": "python",
   "name": "python3"
  },
  "language_info": {
   "codemirror_mode": {
    "name": "ipython",
    "version": 3
   },
   "file_extension": ".py",
   "mimetype": "text/x-python",
   "name": "python",
   "nbconvert_exporter": "python",
   "pygments_lexer": "ipython3",
<<<<<<< HEAD
   "version": "3.5.2"
=======
   "version": "3.6.3"
>>>>>>> adding more projects
  }
 },
 "nbformat": 4,
 "nbformat_minor": 2
}
