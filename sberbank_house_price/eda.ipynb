{
 "cells": [
  {
   "cell_type": "code",
   "execution_count": 2,
   "metadata": {},
   "outputs": [
    {
     "name": "stderr",
     "output_type": "stream",
     "text": [
      "/Users/sergio/anaconda/lib/python3.5/site-packages/sklearn/cross_validation.py:44: DeprecationWarning: This module was deprecated in version 0.18 in favor of the model_selection module into which all the refactored classes and functions are moved. Also note that the interface of the new CV iterators are different from that of this module. This module will be removed in 0.20.\n",
      "  \"This module will be removed in 0.20.\", DeprecationWarning)\n"
     ]
    }
   ],
   "source": [
    "import pandas as pd\n",
    "import numpy as np\n",
    "import matplotlib.pyplot as plt\n",
    "import seaborn as sns\n",
    "\n",
    "from sklearn.cross_validation import train_test_split\n",
    "\n",
    "from sklearn.model_selection import cross_val_score,  GridSearchCV\n",
    "\n",
    "import xgboost as xgb\n",
    "import sklearn.preprocessing as pre\n",
    "\n",
    "from statsmodels.stats.outliers_influence import variance_inflation_factor\n",
    "from sklearn.base import BaseEstimator, TransformerMixin\n",
    "from sklearn.preprocessing import Imputer\n",
    "from scipy.stats import skew\n",
    "import scipy.stats as st"
   ]
  },
  {
   "cell_type": "code",
   "execution_count": 21,
   "metadata": {},
   "outputs": [],
   "source": [
    "geo = pd.read_csv('areas.csv')"
   ]
  },
  {
   "cell_type": "code",
   "execution_count": 22,
   "metadata": {
    "collapsed": true
   },
   "outputs": [],
   "source": [
    "train = pd.read_csv(\"train.csv\")\n",
    "test = pd.read_csv(\"test.csv\")"
   ]
  },
  {
   "cell_type": "code",
   "execution_count": 23,
   "metadata": {},
   "outputs": [
    {
     "data": {
      "text/plain": [
       "sub_area\n",
       "Ajeroport    2437.480994\n",
       "Ajeroport    2437.480994\n",
       "Ajeroport    2437.480994\n",
       "Ajeroport    2437.480994\n",
       "Ajeroport    2437.480994\n",
       "Name: distance, dtype: float64"
      ]
     },
     "execution_count": 23,
     "metadata": {},
     "output_type": "execute_result"
    }
   ],
   "source": [
    "geo2 = geo.drop(['longitude', 'latitude'], axis=1)\n",
    "areas2 = pd.DataFrame()\n",
    "areas2['sub_area'] = train['sub_area']\n",
    "train = train.set_index('sub_area').join(geo2.set_index('sub_area'))['distance']\n"
   ]
  },
  {
   "cell_type": "code",
   "execution_count": 6,
   "metadata": {},
   "outputs": [
    {
     "name": "stdout",
     "output_type": "stream",
     "text": [
      "Train data shape: (30471, 292)\n",
      "Test data shape: (7662, 291)\n"
     ]
    }
   ],
   "source": [
    "print (\"Train data shape:\", train.shape)\n",
    "print (\"Test data shape:\", test.shape)"
   ]
  },
  {
   "cell_type": "code",
   "execution_count": 7,
   "metadata": {},
   "outputs": [
    {
     "data": {
      "text/plain": [
       "count    3.047100e+04\n",
       "mean     7.123035e+06\n",
       "std      4.780111e+06\n",
       "min      1.000000e+05\n",
       "25%      4.740002e+06\n",
       "50%      6.274411e+06\n",
       "75%      8.300000e+06\n",
       "max      1.111111e+08\n",
       "Name: price_doc, dtype: float64"
      ]
     },
     "execution_count": 7,
     "metadata": {},
     "output_type": "execute_result"
    }
   ],
   "source": [
    "train.price_doc.describe()"
   ]
  },
  {
   "cell_type": "code",
   "execution_count": 8,
   "metadata": {},
   "outputs": [
    {
     "name": "stdout",
     "output_type": "stream",
     "text": [
      "Skew is: 4.47474487357\n"
     ]
    },
    {
     "data": {
      "image/png": "[encoded data removed]",
      "text/plain": [
       "<matplotlib.figure.Figure at 0x1049469b0>"
      ]
     },
     "metadata": {},
     "output_type": "display_data"
    }
   ],
   "source": [
    "print (\"Skew is:\", train.price_doc.skew())\n",
    "plt.hist(train.price_doc, color='blue')\n",
    "plt.show()"
   ]
  },
  {
   "cell_type": "code",
   "execution_count": 9,
   "metadata": {},
   "outputs": [
    {
     "name": "stdout",
     "output_type": "stream",
     "text": [
      "Skew is: -0.686715679719\n"
     ]
    },
    {
     "data": {
      "image/png": "[encoded data removed]",
      "text/plain": [
       "<matplotlib.figure.Figure at 0x104a1c470>"
      ]
     },
     "metadata": {},
     "output_type": "display_data"
    }
   ],
   "source": [
    "target = np.log(train.price_doc)\n",
    "print (\"Skew is:\", target.skew())\n",
    "plt.hist(target, color='blue')\n",
    "plt.show()"
   ]
  },
  {
   "cell_type": "code",
   "execution_count": 10,
   "metadata": {
    "collapsed": true
   },
   "outputs": [],
   "source": [
    "numeric_features = train.select_dtypes(include=[np.number])"
   ]
  },
  {
   "cell_type": "code",
   "execution_count": 11,
   "metadata": {},
   "outputs": [
    {
     "name": "stdout",
     "output_type": "stream",
     "text": [
      "price_doc           1.000000\n",
      "num_room            0.476337\n",
      "full_sq             0.341840\n",
      "sport_count_5000    0.294864\n",
      "sport_count_3000    0.290651\n",
      "Name: price_doc, dtype: float64 \n",
      "\n",
      "ttk_km               -0.272620\n",
      "bulvar_ring_km       -0.279158\n",
      "kremlin_km           -0.279249\n",
      "sadovoe_km           -0.283622\n",
      "zd_vokzaly_avto_km   -0.284069\n",
      "Name: price_doc, dtype: float64\n"
     ]
    }
   ],
   "source": [
    "corr = numeric_features.corr()\n",
    "\n",
    "print (corr['price_doc'].sort_values(ascending=False)[:5], '\\n')\n",
    "print (corr['price_doc'].sort_values(ascending=False)[-5:])"
   ]
  },
  {
   "cell_type": "code",
   "execution_count": 12,
   "metadata": {
    "collapsed": true
   },
   "outputs": [],
   "source": [
    "room_pivot = train.pivot_table(index='num_room',\n",
    "                                  values='price_doc', aggfunc=np.median)"
   ]
  },
  {
   "cell_type": "code",
   "execution_count": 13,
   "metadata": {},
   "outputs": [
    {
     "data": {
      "image/png": "[encoded data removed]",
      "text/plain": [
       "<matplotlib.figure.Figure at 0x1101af978>"
      ]
     },
     "metadata": {},
     "output_type": "display_data"
    }
   ],
   "source": [
    "room_pivot.plot(kind='bar', color='blue')\n",
    "plt.xlabel('Room')\n",
    "plt.ylabel('Median Sale Price')\n",
    "plt.xticks(rotation=0)\n",
    "plt.show()"
   ]
  },
  {
   "cell_type": "code",
   "execution_count": 14,
   "metadata": {},
   "outputs": [
    {
     "data": {
      "image/png": "[encoded data removed]",
      "text/plain": [
       "<matplotlib.figure.Figure at 0x110eac240>"
      ]
     },
     "metadata": {},
     "output_type": "display_data"
    }
   ],
   "source": [
    "train = train[train['full_sq'] < 3000]\n",
    "plt.scatter(x=train['full_sq'], y=np.log(train.price_doc))\n",
    "plt.ylabel('Sale Price')\n",
    "plt.xlabel('Full sq')\n",
    "plt.show()"
   ]
  },
  {
   "cell_type": "code",
   "execution_count": 25,
   "metadata": {},
   "outputs": [
    {
     "data": {
      "text/plain": [
       "30347"
      ]
     },
     "execution_count": 25,
     "metadata": {},
     "output_type": "execute_result"
    }
   ],
   "source": [
    "train['distance_from_kremlin'].isnull().sum()"
   ]
  },
  {
   "cell_type": "code",
   "execution_count": 20,
   "metadata": {
    "collapsed": true
   },
   "outputs": [],
   "source": [
    "# geo = pd.read_csv('Longitud_Latitud.csv')\n",
    "\n",
    "# from math import radians, cos, sin, asin, sqrt\n",
    "# def haversine(lon1, lat1, lon2, lat2):\n",
    "#     \"\"\"\n",
    "#     Calculate the great circle distance between two points \n",
    "#     on the earth (specified in decimal degrees)\n",
    "#     \"\"\"\n",
    "#     # convert decimal degrees to radians \n",
    "#     lon1, lat1, lon2, lat2 = map(radians, [lon1, lat1, lon2, lat2])\n",
    "#     # haversine formula \n",
    "#     dlon = lon2 - lon1 \n",
    "#     dlat = lat2 - lat1 \n",
    "#     a = sin(dlat/2)**2 + cos(lat1) * cos(lat2) * sin(dlon/2)**2\n",
    "#     c = 2 * asin(sqrt(a)) \n",
    "#     km = 6367 * c\n",
    "#     return km\n",
    "\n",
    "# def calc_distance(df):\n",
    "#     kremlin = (37.617664,55.752121)\n",
    "#     loc = (df['longitude'], df['latitude'])\n",
    "#     return haversine(loc[0], loc[1], kremlin[0], kremlin[1])\n",
    "# geo['distance'] = geo.apply(calc_distance, axis=1)"
   ]
  }
 ],
 "metadata": {
  "anaconda-cloud": {},
  "kernelspec": {
   "display_name": "Python 3",
   "language": "python",
   "name": "python3"
  },
  "language_info": {
   "codemirror_mode": {
    "name": "ipython",
    "version": 3
   },
   "file_extension": ".py",
   "mimetype": "text/x-python",
   "name": "python",
   "nbconvert_exporter": "python",
   "pygments_lexer": "ipython3",
   "version": "3.6.3"
  }
 },
 "nbformat": 4,
 "nbformat_minor": 1
}
